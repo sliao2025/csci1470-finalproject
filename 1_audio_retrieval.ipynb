{
 "cells": [
  {
   "cell_type": "code",
   "execution_count": 2,
   "metadata": {
    "collapsed": true
   },
   "outputs": [
    {
     "name": "stderr",
     "output_type": "stream",
     "text": [
      "/var/folders/5h/xd0mtjm95gj4hw5b9__7w4g80000gn/T/ipykernel_71851/2376082546.py:6: DeprecationWarning: \n",
      "Pyarrow will become a required dependency of pandas in the next major release of pandas (pandas 3.0),\n",
      "(to allow more performant data types, such as the Arrow string type, and better interoperability with other libraries)\n",
      "but was not found to be installed on your system.\n",
      "If this would cause problems for you,\n",
      "please provide us feedback at https://github.com/pandas-dev/pandas/issues/54466\n",
      "        \n",
      "  import pandas as pd\n"
     ]
    }
   ],
   "source": [
    "# import youtube_dl\n",
    "import yt_dlp\n",
    "import re\n",
    "import os\n",
    "from tqdm import tqdm\n",
    "import pandas as pd\n",
    "import numpy as np"
   ]
  },
  {
   "cell_type": "code",
   "execution_count": 3,
   "metadata": {},
   "outputs": [],
   "source": [
    "WAV_DIR = 'wav_files/'\n",
    "genre_dict = {\n",
    "            '/m/064t9': 'Pop_music',\n",
    "            '/m/0glt670': 'Hip_hop_music',\n",
    "            '/m/06by7': 'Rock_music',\n",
    "            '/m/06j6l': 'Rhythm_blues',\n",
    "            '/m/06cqb': 'Reggae',\n",
    "            '/m/0y4f8': 'Vocal',\n",
    "            '/m/07gxw': 'Techno',\n",
    "            }\n",
    "\n",
    "genre_set = set(genre_dict.keys())"
   ]
  },
  {
   "cell_type": "code",
   "execution_count": 4,
   "metadata": {
    "collapsed": true
   },
   "outputs": [],
   "source": [
    "temp_str = []\n",
    "with open('data-files/csv_files/unbalanced_train_segments.csv', 'r') as f:\n",
    "    temp_str = f.readlines()"
   ]
  },
  {
   "cell_type": "code",
   "execution_count": 5,
   "metadata": {},
   "outputs": [
    {
     "name": "stderr",
     "output_type": "stream",
     "text": [
      "100%|██████████| 2041792/2041792 [01:01<00:00, 33080.33it/s]\n"
     ]
    }
   ],
   "source": [
    "data = np.ones(shape=(1,4)) \n",
    "for line in tqdm(temp_str):\n",
    "    line = re.sub('\\s?\"', '', line.strip())\n",
    "    elements = line.split(',')\n",
    "    common_elements = list(genre_set.intersection(elements[3:]))\n",
    "    if  common_elements != []:\n",
    "        data = np.vstack([data, np.array(elements[:3]\n",
    "                                         + [genre_dict[common_elements[0]]]).reshape(1, 4)])\n",
    "\n",
    "df = pd.DataFrame(data[1:], columns=['url', 'start_time', 'end_time', 'class_label'])"
   ]
  },
  {
   "cell_type": "code",
   "execution_count": 6,
   "metadata": {},
   "outputs": [
    {
     "name": "stdout",
     "output_type": "stream",
     "text": [
      "(52107, 4)\n"
     ]
    },
    {
     "data": {
      "text/plain": [
       "class_label\n",
       "Techno           17023\n",
       "Rock_music        8313\n",
       "Pop_music         8297\n",
       "Hip_hop_music     7221\n",
       "Rhythm_blues      4994\n",
       "Vocal             3496\n",
       "Reggae            2763\n",
       "Name: count, dtype: int64"
      ]
     },
     "execution_count": 6,
     "metadata": {},
     "output_type": "execute_result"
    }
   ],
   "source": [
    "print(df.shape)\n",
    "df.head()\n",
    "df['class_label'].value_counts()"
   ]
  },
  {
   "cell_type": "code",
   "execution_count": 7,
   "metadata": {},
   "outputs": [],
   "source": [
    "# Remove 10k Techno audio clips - to make the data more balanced\n",
    "np.random.seed(10)\n",
    "drop_indices = np.random.choice(df[df['class_label'] == 'Techno'].index, size=10000, replace=False)\n",
    "df.drop(labels=drop_indices, axis=0, inplace=True)\n",
    "df.reset_index(drop=True, inplace=False)\n",
    "\n",
    "# Time to INT \n",
    "df['start_time'] = df['start_time'].map(lambda x: np.int32(float(x)))\n",
    "df['end_time'] = df['end_time'].map(lambda x: np.int32(float(x)))"
   ]
  },
  {
   "cell_type": "code",
   "execution_count": 8,
   "metadata": {},
   "outputs": [
    {
     "data": {
      "text/plain": [
       "class_label\n",
       "Rock_music       8313\n",
       "Pop_music        8297\n",
       "Hip_hop_music    7221\n",
       "Techno           7023\n",
       "Rhythm_blues     4994\n",
       "Vocal            3496\n",
       "Reggae           2763\n",
       "Name: count, dtype: int64"
      ]
     },
     "execution_count": 8,
     "metadata": {},
     "output_type": "execute_result"
    }
   ],
   "source": [
    "df['class_label'].value_counts()"
   ]
  },
  {
   "cell_type": "code",
   "execution_count": 11,
   "metadata": {},
   "outputs": [
    {
     "name": "stdout",
     "output_type": "stream",
     "text": [
      "               url  start_time  end_time    class_label\n",
      "0      --1rvyPa8UM          40        50  Hip_hop_music\n",
      "1      --4kp9W7cNY         160       170         Reggae\n",
      "2      --6HJzEIsFs          30        40   Rhythm_blues\n",
      "3      --AQ3p3ymeE          70        80     Rock_music\n",
      "4      --BMVWju1-w          30        40   Rhythm_blues\n",
      "...            ...         ...       ...            ...\n",
      "52100  zz1Ln4Nrl-k          30        40         Reggae\n",
      "52103  zzS9dTTSMvE         190       200     Rock_music\n",
      "52104  zzVw6ZHHeHo         150       160     Rock_music\n",
      "52105  zzXUnHtUXvg         150       160     Rock_music\n",
      "52106  zzfj1xDOIkM          10        20  Hip_hop_music\n",
      "\n",
      "[42107 rows x 4 columns]\n"
     ]
    }
   ],
   "source": [
    "print(df)\n"
   ]
  },
  {
   "cell_type": "markdown",
   "metadata": {},
   "source": [
    "Example:<br>\n",
    "Step 1:<br>\n",
    "`ffmpeg -ss 5 -i $(youtube-dl -f 140 --get-url 'https://www.youtube.com/embed/---1_cCGK4M') -t 10 -c:v copy -c:a copy test.mp4`<br>\n",
    "Starting time is 5 seconds, duration is 10s.\n",
    "\n",
    "Refer: https://github.com/rg3/youtube-dl/issues/622\n",
    "\n",
    "Step 2:<br>\n",
    "`ffmpeg -i test.mp4 -vn -acodec pcm_s16le -ar 44100 -ac 1 output.wav` <br>\n",
    "PCM-16, 44k sampling, 1-channel (Mono)\n",
    "<br>\n",
    "Refer: https://superuser.com/questions/609740/extracting-wav-from-mp4-while-preserving-the-highest-possible-quality"
   ]
  },
  {
   "cell_type": "code",
   "execution_count": 12,
   "metadata": {},
   "outputs": [
    {
     "name": "stderr",
     "output_type": "stream",
     "text": [
      "28281it [00:00, 72002.44it/s][debug] Command-line config: ['--verbose', '-f', '140', '--get-url', 'https://www.youtube.com/embed/iVgIfrHunFM']\n",
      "[debug] Encodings: locale UTF-8, fs utf-8, pref UTF-8, out utf-8 (No ANSI), error utf-8 (No ANSI), screen utf-8 (No ANSI)\n",
      "[debug] yt-dlp version stable@2024.04.09 from yt-dlp/yt-dlp [ff0779267] (pip)\n",
      "[debug] Python 3.10.13 (CPython arm64 64bit) - macOS-14.3-arm64-arm-64bit (OpenSSL 3.2.0 23 Nov 2023)\n",
      "[debug] exe versions: ffmpeg 7.0 (setts), ffprobe 7.0\n",
      "[debug] Optional libraries: Cryptodome-3.20.0, brotli-1.1.0, certifi-2024.02.02, mutagen-1.47.0, requests-2.31.0, sqlite3-3.44.2, urllib3-2.2.1, websockets-12.0\n",
      "[debug] Proxy map: {}\n",
      "[debug] Request Handlers: urllib, requests, websockets\n",
      "[debug] Loaded 1810 extractors\n",
      "[youtube] Extracting URL: https://www.youtube.com/embed/iVgIfrHunFM\n",
      "[youtube] iVgIfrHunFM: Downloading webpage\n",
      "[youtube] iVgIfrHunFM: Downloading ios player API JSON\n",
      "[youtube] iVgIfrHunFM: Downloading android player API JSON\n",
      "WARNING: [youtube] Skipping player responses from android clients (got player responses for video \"aQvGIIdgFDM\" instead of \"iVgIfrHunFM\")\n",
      "[debug] Loading youtube-nsig.652ba3a2 from cache\n",
      "[debug] [youtube] Decrypted nsig pbNcYdz122xYvxyqyx => R-yNSPxY5X8MKg\n",
      "[debug] Loading youtube-nsig.652ba3a2 from cache\n",
      "[debug] [youtube] Decrypted nsig TCGJ78q_etQs4ne06E => N1xJp8r6bEGMyw\n",
      "[youtube] iVgIfrHunFM: Downloading m3u8 information\n",
      "[debug] Sort order given by extractor: quality, res, fps, hdr:12, source, vcodec:vp9.2, channels, acodec, lang, proto\n",
      "[debug] Formats sorted by: hasvid, ie_pref, quality, res, fps, hdr:12(7), source, vcodec:vp9.2(10), channels, acodec, lang, proto, size, br, asr, vext, aext, hasaud, id\n",
      "[info] iVgIfrHunFM: Downloading 1 format(s): 140\n",
      "ffmpeg version 7.0 Copyright (c) 2000-2024 the FFmpeg developers\n",
      "  built with Apple clang version 15.0.0 (clang-1500.3.9.4)\n",
      "  configuration: --prefix=/opt/homebrew/Cellar/ffmpeg/7.0 --enable-shared --enable-pthreads --enable-version3 --cc=clang --host-cflags= --host-ldflags='-Wl,-ld_classic' --enable-ffplay --enable-gnutls --enable-gpl --enable-libaom --enable-libaribb24 --enable-libbluray --enable-libdav1d --enable-libharfbuzz --enable-libjxl --enable-libmp3lame --enable-libopus --enable-librav1e --enable-librist --enable-librubberband --enable-libsnappy --enable-libsrt --enable-libssh --enable-libsvtav1 --enable-libtesseract --enable-libtheora --enable-libvidstab --enable-libvmaf --enable-libvorbis --enable-libvpx --enable-libwebp --enable-libx264 --enable-libx265 --enable-libxml2 --enable-libxvid --enable-lzma --enable-libfontconfig --enable-libfreetype --enable-frei0r --enable-libass --enable-libopencore-amrnb --enable-libopencore-amrwb --enable-libopenjpeg --enable-libopenvino --enable-libspeex --enable-libsoxr --enable-libzmq --enable-libzimg --disable-libjack --disable-indev=jack --enable-videotoolbox --enable-audiotoolbox --enable-neon\n",
      "  libavutil      59.  8.100 / 59.  8.100\n",
      "  libavcodec     61.  3.100 / 61.  3.100\n",
      "  libavformat    61.  1.100 / 61.  1.100\n",
      "  libavdevice    61.  1.100 / 61.  1.100\n",
      "  libavfilter    10.  1.100 / 10.  1.100\n",
      "  libswscale      8.  1.100 /  8.  1.100\n",
      "  libswresample   5.  1.100 /  5.  1.100\n",
      "  libpostproc    58.  1.100 / 58.  1.100\n",
      "Input #0, mov,mp4,m4a,3gp,3g2,mj2, from 'https://rr1---sn-ab5sznlk.googlevideo.com/videoplayback?expire=1714377019&ei=2_wuZv_nNNeIkucPi7SNqAU&ip=2620%3A6e%3A6000%3A3100%3A4f7%3A2788%3Ac022%3A2bc1&id=o-AK09bj5nihIi76ztTsBEuHBFkICxoZz_DZC1Id_e70JU&itag=140&source=youtube&requiressl=yes&xpc=EgVo2aDSNQ%3D%3D&mh=rc&mm=31%2C29&mn=sn-ab5sznlk%2Csn-ab5l6nkd&ms=au%2Crdu&mv=m&mvi=1&pl=48&initcwndbps=1736250&vprv=1&svpuc=1&mime=audio%2Fmp4&gir=yes&clen=4166522&dur=257.369&lmt=1698894354892872&mt=1714355106&fvip=2&keepalive=yes&c=IOS&txp=1218224&sparams=expire%2Cei%2Cip%2Cid%2Citag%2Csource%2Crequiressl%2Cxpc%2Cvprv%2Csvpuc%2Cmime%2Cgir%2Cclen%2Cdur%2Clmt&sig=AJfQdSswRAIgIBuE6pR9nnRbJLJEplogA4PGiMAMHYCbC9E0h5uz8XUCIHYvMKdDercv9TvTRwbsdWwDPrZG86_4P7IryC9W0RFa&lsparams=mh%2Cmm%2Cmn%2Cms%2Cmv%2Cmvi%2Cpl%2Cinitcwndbps&lsig=AHWaYeowRQIgJDbQuE5lCIqlr8VUddv9qGKV2YkS21V4pTWjrrZXpp4CIQDBGbM7RSd6KV1PUH6mDh2bSWtPInQK4ifPmzju1dMg9w%3D%3D':\n",
      "  Metadata:\n",
      "    major_brand     : dash\n",
      "    minor_version   : 0\n",
      "    compatible_brands: iso6mp41\n",
      "    creation_time   : 2023-11-02T03:00:42.000000Z\n",
      "  Duration: 00:04:17.37, start: 0.000000, bitrate: 129 kb/s\n",
      "  Stream #0:0[0x1](eng): Audio: aac (LC) (mp4a / 0x6134706D), 44100 Hz, stereo, fltp, 4 kb/s (default)\n",
      "      Metadata:\n",
      "        creation_time   : 2023-11-02T03:00:42.000000Z\n",
      "        handler_name    : ISO Media file produced by Google Inc.\n",
      "        vendor_id       : [0][0][0][0]\n",
      "Stream mapping:\n",
      "  Stream #0:0 -> #0:0 (copy)\n",
      "Output #0, mp4, to '42684_Rock_music.mp4':\n",
      "  Metadata:\n",
      "    major_brand     : dash\n",
      "    minor_version   : 0\n",
      "    compatible_brands: iso6mp41\n",
      "    encoder         : Lavf61.1.100\n",
      "  Stream #0:0(eng): Audio: aac (LC) (mp4a / 0x6134706D), 44100 Hz, stereo, fltp, 4 kb/s (default)\n",
      "      Metadata:\n",
      "        creation_time   : 2023-11-02T03:00:42.000000Z\n",
      "        handler_name    : ISO Media file produced by Google Inc.\n",
      "        vendor_id       : [0][0][0][0]\n",
      "Press [q] to stop, [?] for help\n",
      "[out#0/mp4 @ 0x15313bcb0] video:0KiB audio:157KiB subtitle:0KiB other streams:0KiB global headers:0KiB muxing overhead: 1.608537%\n",
      "size=     159KiB time=00:00:10.07 bitrate= 129.4kbits/s speed= 117x    \n",
      "ffmpeg version 7.0 Copyright (c) 2000-2024 the FFmpeg developers\n",
      "  built with Apple clang version 15.0.0 (clang-1500.3.9.4)\n",
      "  configuration: --prefix=/opt/homebrew/Cellar/ffmpeg/7.0 --enable-shared --enable-pthreads --enable-version3 --cc=clang --host-cflags= --host-ldflags='-Wl,-ld_classic' --enable-ffplay --enable-gnutls --enable-gpl --enable-libaom --enable-libaribb24 --enable-libbluray --enable-libdav1d --enable-libharfbuzz --enable-libjxl --enable-libmp3lame --enable-libopus --enable-librav1e --enable-librist --enable-librubberband --enable-libsnappy --enable-libsrt --enable-libssh --enable-libsvtav1 --enable-libtesseract --enable-libtheora --enable-libvidstab --enable-libvmaf --enable-libvorbis --enable-libvpx --enable-libwebp --enable-libx264 --enable-libx265 --enable-libxml2 --enable-libxvid --enable-lzma --enable-libfontconfig --enable-libfreetype --enable-frei0r --enable-libass --enable-libopencore-amrnb --enable-libopencore-amrwb --enable-libopenjpeg --enable-libopenvino --enable-libspeex --enable-libsoxr --enable-libzmq --enable-libzimg --disable-libjack --disable-indev=jack --enable-videotoolbox --enable-audiotoolbox --enable-neon\n",
      "  libavutil      59.  8.100 / 59.  8.100\n",
      "  libavcodec     61.  3.100 / 61.  3.100\n",
      "  libavformat    61.  1.100 / 61.  1.100\n",
      "  libavdevice    61.  1.100 / 61.  1.100\n",
      "  libavfilter    10.  1.100 / 10.  1.100\n",
      "  libswscale      8.  1.100 /  8.  1.100\n",
      "  libswresample   5.  1.100 /  5.  1.100\n",
      "  libpostproc    58.  1.100 / 58.  1.100\n",
      "Input #0, mov,mp4,m4a,3gp,3g2,mj2, from '42684_Rock_music.mp4':\n",
      "  Metadata:\n",
      "    major_brand     : isom\n",
      "    minor_version   : 512\n",
      "    compatible_brands: isomiso2mp41\n",
      "    encoder         : Lavf61.1.100\n",
      "  Duration: 00:00:10.00, start: 0.000000, bitrate: 130 kb/s\n",
      "  Stream #0:0[0x1](eng): Audio: aac (LC) (mp4a / 0x6134706D), 44100 Hz, stereo, fltp, 128 kb/s (default)\n",
      "      Metadata:\n",
      "        handler_name    : ISO Media file produced by Google Inc.\n",
      "        vendor_id       : [0][0][0][0]\n",
      "Stream mapping:\n",
      "  Stream #0:0 -> #0:0 (aac (native) -> pcm_s16le (native))\n",
      "Press [q] to stop, [?] for help\n",
      "Output #0, wav, to 'wav_files/42684_Rock_music.wav':\n",
      "  Metadata:\n",
      "    major_brand     : isom\n",
      "    minor_version   : 512\n",
      "    compatible_brands: isomiso2mp41\n",
      "    ISFT            : Lavf61.1.100\n",
      "  Stream #0:0(eng): Audio: pcm_s16le ([1][0][0][0] / 0x0001), 44100 Hz, mono, s16, 705 kb/s (default)\n",
      "      Metadata:\n",
      "        handler_name    : ISO Media file produced by Google Inc.\n",
      "        vendor_id       : [0][0][0][0]\n",
      "        encoder         : Lavc61.3.100 pcm_s16le\n",
      "[out#0/wav @ 0x133640710] video:0KiB audio:861KiB subtitle:0KiB other streams:0KiB global headers:0KiB muxing overhead: 0.008843%\n",
      "size=     861KiB time=00:00:10.00 bitrate= 705.7kbits/s speed= 712x    \n",
      "[debug] Command-line config: ['--verbose', '-f', '140', '--get-url', 'https://www.youtube.com/embed/iVm3bR4R7mA']\n",
      "[debug] Encodings: locale UTF-8, fs utf-8, pref UTF-8, out utf-8 (No ANSI), error utf-8 (No ANSI), screen utf-8 (No ANSI)\n",
      "[debug] yt-dlp version stable@2024.04.09 from yt-dlp/yt-dlp [ff0779267] (pip)\n",
      "[debug] Python 3.10.13 (CPython arm64 64bit) - macOS-14.3-arm64-arm-64bit (OpenSSL 3.2.0 23 Nov 2023)\n",
      "[debug] exe versions: ffmpeg 7.0 (setts), ffprobe 7.0\n",
      "[debug] Optional libraries: Cryptodome-3.20.0, brotli-1.1.0, certifi-2024.02.02, mutagen-1.47.0, requests-2.31.0, sqlite3-3.44.2, urllib3-2.2.1, websockets-12.0\n",
      "[debug] Proxy map: {}\n",
      "[debug] Request Handlers: urllib, requests, websockets\n",
      "[debug] Loaded 1810 extractors\n",
      "[youtube] Extracting URL: https://www.youtube.com/embed/iVm3bR4R7mA\n",
      "[youtube] iVm3bR4R7mA: Downloading webpage\n",
      "[youtube] iVm3bR4R7mA: Downloading ios player API JSON\n",
      "[youtube] iVm3bR4R7mA: Downloading android player API JSON\n",
      "WARNING: [youtube] Skipping player responses from android clients (got player responses for video \"aQvGIIdgFDM\" instead of \"iVm3bR4R7mA\")\n",
      "[debug] [youtube] Extracting signature function js_652ba3a2_110\n",
      "[debug] Loading youtube-sigfuncs.js_652ba3a2_110 from cache\n",
      "[debug] Loading youtube-nsig.652ba3a2 from cache\n",
      "[debug] [youtube] Decrypted nsig 59fWRK2OC69NlVLPDX => NB8sVVBxoFRQSw\n",
      "[debug] Loading youtube-nsig.652ba3a2 from cache\n",
      "[debug] [youtube] Decrypted nsig 6CVnZHYoEWjDC4AGJ4 => zVPq0apqRZfcIw\n",
      "[youtube] iVm3bR4R7mA: Downloading m3u8 information\n",
      "[debug] Sort order given by extractor: quality, res, fps, hdr:12, source, vcodec:vp9.2, channels, acodec, lang, proto\n",
      "[debug] Formats sorted by: hasvid, ie_pref, quality, res, fps, hdr:12(7), source, vcodec:vp9.2(10), channels, acodec, lang, proto, size, br, asr, vext, aext, hasaud, id\n",
      "[info] iVm3bR4R7mA: Downloading 1 format(s): 140\n",
      "ffmpeg version 7.0 Copyright (c) 2000-2024 the FFmpeg developers\n",
      "  built with Apple clang version 15.0.0 (clang-1500.3.9.4)\n",
      "  configuration: --prefix=/opt/homebrew/Cellar/ffmpeg/7.0 --enable-shared --enable-pthreads --enable-version3 --cc=clang --host-cflags= --host-ldflags='-Wl,-ld_classic' --enable-ffplay --enable-gnutls --enable-gpl --enable-libaom --enable-libaribb24 --enable-libbluray --enable-libdav1d --enable-libharfbuzz --enable-libjxl --enable-libmp3lame --enable-libopus --enable-librav1e --enable-librist --enable-librubberband --enable-libsnappy --enable-libsrt --enable-libssh --enable-libsvtav1 --enable-libtesseract --enable-libtheora --enable-libvidstab --enable-libvmaf --enable-libvorbis --enable-libvpx --enable-libwebp --enable-libx264 --enable-libx265 --enable-libxml2 --enable-libxvid --enable-lzma --enable-libfontconfig --enable-libfreetype --enable-frei0r --enable-libass --enable-libopencore-amrnb --enable-libopencore-amrwb --enable-libopenjpeg --enable-libopenvino --enable-libspeex --enable-libsoxr --enable-libzmq --enable-libzimg --disable-libjack --disable-indev=jack --enable-videotoolbox --enable-audiotoolbox --enable-neon\n",
      "  libavutil      59.  8.100 / 59.  8.100\n",
      "  libavcodec     61.  3.100 / 61.  3.100\n",
      "  libavformat    61.  1.100 / 61.  1.100\n",
      "  libavdevice    61.  1.100 / 61.  1.100\n",
      "  libavfilter    10.  1.100 / 10.  1.100\n",
      "  libswscale      8.  1.100 /  8.  1.100\n",
      "  libswresample   5.  1.100 /  5.  1.100\n",
      "  libpostproc    58.  1.100 / 58.  1.100\n"
     ]
    }
   ],
   "source": [
    "for i, row in tqdm(df.iterrows()):\n",
    "    if (i > 42683):\n",
    "        url = \"'https://www.youtube.com/embed/\" + row['url'] + \"'\"\n",
    "        file_name = str(i)+\"_\"+row['class_label']\n",
    "        \n",
    "        try:\n",
    "            command_1 = \"ffmpeg -ss \" + str(row['start_time']) + \" -i $(yt-dlp --verbose -f 140 --get-url \" +\\\n",
    "                        url + \") -t 10 -c:v copy -c:a copy \" + file_name + \".mp4\"\n",
    "\n",
    "            command_2 = \"ffmpeg -i \"+ file_name +\".mp4 -vn -acodec pcm_s16le -ar 44100 -ac 1 \" + WAV_DIR + file_name + \".wav\"\n",
    "\n",
    "            command_3 = 'rm ' + file_name + '.mp4' \n",
    "\n",
    "            # Run the 3 commands\n",
    "            os.system(command_1 + ';' + command_2 + ';' + command_3 + ';')\n",
    "        \n",
    "        except:\n",
    "            print(i, url)\n",
    "            pass"
   ]
  },
  {
   "cell_type": "code",
   "execution_count": null,
   "metadata": {
    "collapsed": true
   },
   "outputs": [],
   "source": []
  }
 ],
 "metadata": {
  "kernelspec": {
   "display_name": "Python 3",
   "language": "python",
   "name": "python3"
  },
  "language_info": {
   "codemirror_mode": {
    "name": "ipython",
    "version": 3
   },
   "file_extension": ".py",
   "mimetype": "text/x-python",
   "name": "python",
   "nbconvert_exporter": "python",
   "pygments_lexer": "ipython3",
   "version": "3.10.13"
  }
 },
 "nbformat": 4,
 "nbformat_minor": 2
}
