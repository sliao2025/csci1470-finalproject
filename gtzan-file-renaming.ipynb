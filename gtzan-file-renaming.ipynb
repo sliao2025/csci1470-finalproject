{
 "cells": [
  {
   "cell_type": "code",
   "execution_count": 5,
   "metadata": {},
   "outputs": [],
   "source": [
    "import os\n",
    "import shutil"
   ]
  },
  {
   "cell_type": "code",
   "execution_count": 4,
   "metadata": {},
   "outputs": [],
   "source": [
    "folder_paths = [\n",
    "    \"./gtzan_audio/blues\",\n",
    "    \"./gtzan_audio/classical\",\n",
    "    \"./gtzan_audio/country\",\n",
    "    \"./gtzan_audio/disco\",\n",
    "    \"./gtzan_audio/hiphop\",\n",
    "    \"./gtzan_audio/jazz\",\n",
    "    \"./gtzan_audio/metal\",\n",
    "    \"./gtzan_audio/pop\",\n",
    "    \"./gtzan_audio/reggae\",\n",
    "    \"./gtzan_audio/rock\"]\n",
    "\n",
    "i = 0\n",
    "\n",
    "for folder_path in folder_paths:\n",
    "    # Iterate over all files in the directory\n",
    "    for filename in os.listdir(folder_path):\n",
    "        # Check if the file is actually a file (not a directory)\n",
    "        if os.path.isfile(os.path.join(folder_path, filename)):\n",
    "            # Construct the new filename\n",
    "            new_filename = f\"{i}_{os.path.basename(folder_path)}\"\n",
    "            # Rename the file\n",
    "            os.rename(os.path.join(folder_path, filename), os.path.join(folder_path, new_filename))\n",
    "            i += 1"
   ]
  },
  {
   "cell_type": "code",
   "execution_count": 6,
   "metadata": {},
   "outputs": [],
   "source": [
    "gtzan_path = \"./gtzan_audio\"\n",
    "\n",
    "for folder_name in os.listdir(gtzan_path):\n",
    "    folder_path = os.path.join(gtzan_path, folder_name)\n",
    "    # Check if the item is a directory\n",
    "    if os.path.isdir(folder_path):\n",
    "        # Iterate over each file in the current folder\n",
    "        for filename in os.listdir(folder_path):\n",
    "            file_path = os.path.join(folder_path, filename)\n",
    "            # Move the file to the \"gtzan\" folder\n",
    "            shutil.move(file_path, gtzan_path)"
   ]
  }
 ],
 "metadata": {
  "kernelspec": {
   "display_name": "csci1470",
   "language": "python",
   "name": "python3"
  },
  "language_info": {
   "codemirror_mode": {
    "name": "ipython",
    "version": 3
   },
   "file_extension": ".py",
   "mimetype": "text/x-python",
   "name": "python",
   "nbconvert_exporter": "python",
   "pygments_lexer": "ipython3",
   "version": "3.10.13"
  }
 },
 "nbformat": 4,
 "nbformat_minor": 2
}
