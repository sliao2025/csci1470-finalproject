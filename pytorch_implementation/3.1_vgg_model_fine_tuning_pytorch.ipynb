{
 "cells": [
  {
   "cell_type": "markdown",
   "metadata": {},
   "source": [
    "IS IT GONNA BE TRANSFER FOR FINE TUNING?  FINE TUNING SEEMS TO BE A LOT MORE ACCURATE THAN TRANSFER, AND IT'S ONLY ONE LINE DIFFERENCE ANYWAYS"
   ]
  },
  {
   "cell_type": "code",
   "execution_count": null,
   "metadata": {},
   "outputs": [],
   "source": []
  }
 ],
 "metadata": {
  "language_info": {
   "name": "python"
  }
 },
 "nbformat": 4,
 "nbformat_minor": 2
}
