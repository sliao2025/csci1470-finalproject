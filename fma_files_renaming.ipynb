{
 "cells": [
  {
   "cell_type": "code",
   "execution_count": 1,
   "metadata": {},
   "outputs": [],
   "source": [
    "import os\n",
    "import shutil\n",
    "import pandas as pd"
   ]
  },
  {
   "cell_type": "code",
   "execution_count": 2,
   "metadata": {},
   "outputs": [],
   "source": [
    "fma_audio_path = \"./fma_audio\"\n",
    "tracks_csv_path = \"./tracks_metadata.csv\""
   ]
  },
  {
   "cell_type": "code",
   "execution_count": 3,
   "metadata": {},
   "outputs": [
    {
     "name": "stderr",
     "output_type": "stream",
     "text": [
      "/var/folders/kp/1l46y2dn0ml9lm3r7ppg41c80000gn/T/ipykernel_8888/1812107825.py:1: DtypeWarning: Columns (0,1,5,6,8,12,18,20,21,22,24,33,34,38,39,44,47,48,49,53,54,55,56,57,58,59,60,61,62,63,64,65,66,67,68,69,70,71,72,73,74,75,76,77,78,79,80,81,82,83,84,85,86,87,88,89,90,91,92,93,94,95,96,97,98,99,100,101,102,103) have mixed types. Specify dtype option on import or set low_memory=False.\n",
      "  df = pd.read_csv(tracks_csv_path)\n"
     ]
    }
   ],
   "source": [
    "df = pd.read_csv(tracks_csv_path)\n",
    "df.set_index('track_id', inplace=True)"
   ]
  },
  {
   "cell_type": "code",
   "execution_count": 4,
   "metadata": {},
   "outputs": [],
   "source": [
    "def get_genre(track_id):\n",
    "    try:\n",
    "        genre = df.loc[track_id, 'genre']  # Replace '41st_column_name' with the actual name of the 41st column\n",
    "        return genre\n",
    "    except KeyError:\n",
    "        return \"Track ID not found\""
   ]
  },
  {
   "cell_type": "markdown",
   "metadata": {},
   "source": [
    "# Go through all folders and rename files"
   ]
  },
  {
   "cell_type": "code",
   "execution_count": 18,
   "metadata": {},
   "outputs": [],
   "source": [
    "i = 0\n",
    "for folder in os.listdir(fma_audio_path):\n",
    "    folder_path = os.path.join(fma_audio_path, folder)\n",
    "    # Check if the item is not a .DS_Store file\n",
    "    if folder_path.endswith('.DS_Store'): continue\n",
    "    # Iterate over all files in the directory\n",
    "    for filename in os.listdir(folder_path):\n",
    "        # Check if the file is actually a file (not a directory)\n",
    "        if os.path.isfile(os.path.join(folder_path, filename)):\n",
    "            genre = get_genre(filename[:filename.rfind(\".\")])\n",
    "            # if the genre exists for a given track\n",
    "            if not pd.isna(genre):\n",
    "                # Construct the new filename\n",
    "                new_filename = f\"{i}_{genre}.mp3\"\n",
    "                # Rename the file\n",
    "                os.rename(os.path.join(folder_path, filename), os.path.join(folder_path, new_filename))\n",
    "                # Move file outside of folder \n",
    "                shutil.move(os.path.join(folder_path, new_filename), fma_audio_path)\n",
    "                i += 1"
   ]
  },
  {
   "cell_type": "markdown",
   "metadata": {},
   "source": [
    "# MAKE SURE TO DELETE ALL FOLDERS IN THE FMA FOLDER AFTER FILES ARE RENAMED AND MOVED"
   ]
  }
 ],
 "metadata": {
  "kernelspec": {
   "display_name": "csci1470",
   "language": "python",
   "name": "python3"
  },
  "language_info": {
   "codemirror_mode": {
    "name": "ipython",
    "version": 3
   },
   "file_extension": ".py",
   "mimetype": "text/x-python",
   "name": "python",
   "nbconvert_exporter": "python",
   "pygments_lexer": "ipython3",
   "version": "3.10.13"
  }
 },
 "nbformat": 4,
 "nbformat_minor": 2
}
